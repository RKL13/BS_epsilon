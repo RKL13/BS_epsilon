{
 "cells": [
  {
   "cell_type": "code",
   "execution_count": 1,
   "id": "7283d5d5",
   "metadata": {},
   "outputs": [],
   "source": [
    "from IPython.core.interactiveshell import InteractiveShell\n",
    "from IPython.display import display\n",
    "InteractiveShell.ast_node_interactivity = \"all\"\n",
    "\n",
    "import pandas as pd\n",
    "import numpy as np\n",
    "import matplotlib.pyplot as plt"
   ]
  },
  {
   "cell_type": "code",
   "execution_count": 2,
   "id": "808c8554",
   "metadata": {},
   "outputs": [],
   "source": [
    "df = pd.read_csv(r'/mnt/d/BusinessSuiteData/BS_epsilon_data/cookie_cats.csv')"
   ]
  },
  {
   "cell_type": "code",
   "execution_count": 3,
   "id": "ea1b4523",
   "metadata": {
    "scrolled": true
   },
   "outputs": [
    {
     "data": {
      "text/html": [
       "<div>\n",
       "<style scoped>\n",
       "    .dataframe tbody tr th:only-of-type {\n",
       "        vertical-align: middle;\n",
       "    }\n",
       "\n",
       "    .dataframe tbody tr th {\n",
       "        vertical-align: top;\n",
       "    }\n",
       "\n",
       "    .dataframe thead th {\n",
       "        text-align: right;\n",
       "    }\n",
       "</style>\n",
       "<table border=\"1\" class=\"dataframe\">\n",
       "  <thead>\n",
       "    <tr style=\"text-align: right;\">\n",
       "      <th></th>\n",
       "      <th>userid</th>\n",
       "      <th>version</th>\n",
       "      <th>sum_gamerounds</th>\n",
       "      <th>retention_1</th>\n",
       "      <th>retention_7</th>\n",
       "    </tr>\n",
       "  </thead>\n",
       "  <tbody>\n",
       "    <tr>\n",
       "      <th>0</th>\n",
       "      <td>116</td>\n",
       "      <td>gate_30</td>\n",
       "      <td>3</td>\n",
       "      <td>False</td>\n",
       "      <td>False</td>\n",
       "    </tr>\n",
       "    <tr>\n",
       "      <th>1</th>\n",
       "      <td>337</td>\n",
       "      <td>gate_30</td>\n",
       "      <td>38</td>\n",
       "      <td>True</td>\n",
       "      <td>False</td>\n",
       "    </tr>\n",
       "    <tr>\n",
       "      <th>2</th>\n",
       "      <td>377</td>\n",
       "      <td>gate_40</td>\n",
       "      <td>165</td>\n",
       "      <td>True</td>\n",
       "      <td>False</td>\n",
       "    </tr>\n",
       "  </tbody>\n",
       "</table>\n",
       "</div>"
      ],
      "text/plain": [
       "   userid  version  sum_gamerounds  retention_1  retention_7\n",
       "0     116  gate_30               3        False        False\n",
       "1     337  gate_30              38         True        False\n",
       "2     377  gate_40             165         True        False"
      ]
     },
     "execution_count": 3,
     "metadata": {},
     "output_type": "execute_result"
    }
   ],
   "source": [
    "df.head(3)"
   ]
  },
  {
   "cell_type": "code",
   "execution_count": 4,
   "id": "f012373e",
   "metadata": {},
   "outputs": [
    {
     "data": {
      "text/html": [
       "<div>\n",
       "<style scoped>\n",
       "    .dataframe tbody tr th:only-of-type {\n",
       "        vertical-align: middle;\n",
       "    }\n",
       "\n",
       "    .dataframe tbody tr th {\n",
       "        vertical-align: top;\n",
       "    }\n",
       "\n",
       "    .dataframe thead th {\n",
       "        text-align: right;\n",
       "    }\n",
       "</style>\n",
       "<table border=\"1\" class=\"dataframe\">\n",
       "  <thead>\n",
       "    <tr style=\"text-align: right;\">\n",
       "      <th></th>\n",
       "      <th>userid</th>\n",
       "    </tr>\n",
       "    <tr>\n",
       "      <th>version</th>\n",
       "      <th></th>\n",
       "    </tr>\n",
       "  </thead>\n",
       "  <tbody>\n",
       "    <tr>\n",
       "      <th>gate_30</th>\n",
       "      <td>44700</td>\n",
       "    </tr>\n",
       "    <tr>\n",
       "      <th>gate_40</th>\n",
       "      <td>45489</td>\n",
       "    </tr>\n",
       "  </tbody>\n",
       "</table>\n",
       "</div>"
      ],
      "text/plain": [
       "         userid\n",
       "version        \n",
       "gate_30   44700\n",
       "gate_40   45489"
      ]
     },
     "execution_count": 4,
     "metadata": {},
     "output_type": "execute_result"
    }
   ],
   "source": [
    "# Count players in each AB groups\n",
    "\n",
    "df.groupby('version')['userid'].count().to_frame()"
   ]
  },
  {
   "cell_type": "code",
   "execution_count": 5,
   "id": "27becf79",
   "metadata": {},
   "outputs": [
    {
     "data": {
      "image/png": "[encoded data removed]",
      "text/plain": [
       "<Figure size 640x480 with 1 Axes>"
      ]
     },
     "metadata": {},
     "output_type": "display_data"
    },
    {
     "data": {
      "image/png": "[encoded data removed]",
      "text/plain": [
       "<Figure size 640x480 with 1 Axes>"
      ]
     },
     "metadata": {},
     "output_type": "display_data"
    }
   ],
   "source": [
    "# Plot the distribution of sum_gamerounds\n",
    "\n",
    "df.groupby('sum_gamerounds')['userid'].count().hist()\n",
    "plt.show();\n",
    "\n",
    "# First 100\n",
    "\n",
    "df.groupby('sum_gamerounds')['userid'].count().head(100).hist()\n",
    "plt.show();"
   ]
  },
  {
   "cell_type": "markdown",
   "id": "154fdf59",
   "metadata": {},
   "source": [
    "Retantion after 1 day"
   ]
  },
  {
   "cell_type": "code",
   "execution_count": 6,
   "id": "6b74f902",
   "metadata": {},
   "outputs": [
    {
     "data": {
      "text/html": [
       "<div>\n",
       "<style scoped>\n",
       "    .dataframe tbody tr th:only-of-type {\n",
       "        vertical-align: middle;\n",
       "    }\n",
       "\n",
       "    .dataframe tbody tr th {\n",
       "        vertical-align: top;\n",
       "    }\n",
       "\n",
       "    .dataframe thead th {\n",
       "        text-align: right;\n",
       "    }\n",
       "</style>\n",
       "<table border=\"1\" class=\"dataframe\">\n",
       "  <thead>\n",
       "    <tr style=\"text-align: right;\">\n",
       "      <th></th>\n",
       "      <th>retention_1</th>\n",
       "      <th>%</th>\n",
       "    </tr>\n",
       "  </thead>\n",
       "  <tbody>\n",
       "    <tr>\n",
       "      <th>False</th>\n",
       "      <td>50036</td>\n",
       "      <td>55.47905</td>\n",
       "    </tr>\n",
       "    <tr>\n",
       "      <th>True</th>\n",
       "      <td>40153</td>\n",
       "      <td>44.52095</td>\n",
       "    </tr>\n",
       "  </tbody>\n",
       "</table>\n",
       "</div>"
      ],
      "text/plain": [
       "       retention_1         %\n",
       "False        50036  55.47905\n",
       "True         40153  44.52095"
      ]
     },
     "execution_count": 6,
     "metadata": {},
     "output_type": "execute_result"
    }
   ],
   "source": [
    "# Calculates overall retention_1\n",
    "\n",
    "pd.concat([df['retention_1'].value_counts(), \n",
    "           df['retention_1'].value_counts(normalize=True).mul(100).to_frame(name='%')], \n",
    "           axis=1)"
   ]
  },
  {
   "cell_type": "code",
   "execution_count": 7,
   "id": "069f3593",
   "metadata": {},
   "outputs": [
    {
     "data": {
      "text/html": [
       "<div>\n",
       "<style scoped>\n",
       "    .dataframe tbody tr th:only-of-type {\n",
       "        vertical-align: middle;\n",
       "    }\n",
       "\n",
       "    .dataframe tbody tr th {\n",
       "        vertical-align: top;\n",
       "    }\n",
       "\n",
       "    .dataframe thead th {\n",
       "        text-align: right;\n",
       "    }\n",
       "</style>\n",
       "<table border=\"1\" class=\"dataframe\">\n",
       "  <thead>\n",
       "    <tr style=\"text-align: right;\">\n",
       "      <th></th>\n",
       "      <th></th>\n",
       "      <th>retention_1</th>\n",
       "      <th>%</th>\n",
       "    </tr>\n",
       "    <tr>\n",
       "      <th>version</th>\n",
       "      <th>retention_1</th>\n",
       "      <th></th>\n",
       "      <th></th>\n",
       "    </tr>\n",
       "  </thead>\n",
       "  <tbody>\n",
       "    <tr>\n",
       "      <th rowspan=\"2\" valign=\"top\">gate_30</th>\n",
       "      <th>False</th>\n",
       "      <td>24666</td>\n",
       "      <td>55.181208</td>\n",
       "    </tr>\n",
       "    <tr>\n",
       "      <th>True</th>\n",
       "      <td>20034</td>\n",
       "      <td>44.818792</td>\n",
       "    </tr>\n",
       "    <tr>\n",
       "      <th rowspan=\"2\" valign=\"top\">gate_40</th>\n",
       "      <th>False</th>\n",
       "      <td>25370</td>\n",
       "      <td>55.771725</td>\n",
       "    </tr>\n",
       "    <tr>\n",
       "      <th>True</th>\n",
       "      <td>20119</td>\n",
       "      <td>44.228275</td>\n",
       "    </tr>\n",
       "  </tbody>\n",
       "</table>\n",
       "</div>"
      ],
      "text/plain": [
       "                     retention_1          %\n",
       "version retention_1                        \n",
       "gate_30 False              24666  55.181208\n",
       "        True               20034  44.818792\n",
       "gate_40 False              25370  55.771725\n",
       "        True               20119  44.228275"
      ]
     },
     "execution_count": 7,
     "metadata": {},
     "output_type": "execute_result"
    }
   ],
   "source": [
    "# Calculates retention_1 by groups\n",
    "\n",
    "pd.concat([df.groupby('version')['retention_1'].value_counts(), \n",
    "           df.groupby('version')['retention_1'].value_counts(normalize=True).mul(100).to_frame(name='%')], \n",
    "           axis=1)"
   ]
  },
  {
   "cell_type": "markdown",
   "id": "da8caad6",
   "metadata": {},
   "source": [
    "Is the difference 44.81 VS 44.22 significative ?\n",
    "\n",
    "    NB: even small changes in retention can have a large impact"
   ]
  },
  {
   "cell_type": "code",
   "execution_count": 8,
   "id": "aabd575e",
   "metadata": {},
   "outputs": [
    {
     "data": {
      "text/plain": [
       "[version\n",
       " gate_30    0.447194\n",
       " gate_40    0.443627\n",
       " Name: retention_1, dtype: float64,\n",
       " version\n",
       " gate_30    0.444897\n",
       " gate_40    0.445032\n",
       " Name: retention_1, dtype: float64,\n",
       " version\n",
       " gate_30    0.452701\n",
       " gate_40    0.439213\n",
       " Name: retention_1, dtype: float64,\n",
       " version\n",
       " gate_30    0.451109\n",
       " gate_40    0.442635\n",
       " Name: retention_1, dtype: float64,\n",
       " version\n",
       " gate_30    0.450526\n",
       " gate_40    0.442691\n",
       " Name: retention_1, dtype: float64]"
      ]
     },
     "execution_count": 8,
     "metadata": {},
     "output_type": "execute_result"
    },
    {
     "name": "stdout",
     "output_type": "stream",
     "text": [
      "...\n"
     ]
    }
   ],
   "source": [
    "# Bootstrap analysis\n",
    "\n",
    "# NB : GROUPBY : takes means of each group per iteration\n",
    "\n",
    "bootstrap_means_list = []\n",
    "\n",
    "for i in range(500):\n",
    "    sample_mean = df.sample(frac = 1, replace = True).groupby('version')['retention_1'].mean()\n",
    "    bootstrap_means_list.append(sample_mean)\n",
    "\n",
    "# e.g bootstrap_means_list\n",
    "\n",
    "bootstrap_means_list[:5]\n",
    "print('...')\n",
    "\n",
    "# NB : Note that in this notebook we have limited the number of bootstrap replication to 500 to keep the calculations quick. \n",
    "# In \"production\" we would likely increase this to a much larger number, say, 10 000"
   ]
  },
  {
   "cell_type": "code",
   "execution_count": 9,
   "id": "eecfac38",
   "metadata": {},
   "outputs": [
    {
     "data": {
      "text/plain": [
       "False    90189\n",
       "dtype: int64"
      ]
     },
     "execution_count": 9,
     "metadata": {},
     "output_type": "execute_result"
    },
    {
     "data": {
      "text/plain": [
       "False    57025\n",
       "True     33164\n",
       "dtype: int64"
      ]
     },
     "execution_count": 9,
     "metadata": {},
     "output_type": "execute_result"
    },
    {
     "data": {
      "text/plain": [
       "False    56982\n",
       "True     33207\n",
       "dtype: int64"
      ]
     },
     "execution_count": 9,
     "metadata": {},
     "output_type": "execute_result"
    }
   ],
   "source": [
    "# Note on frac 1 and replace = True : same size than the sampled pop (frac == 1), replace : draw =1 replace, draw = 1, etc.\n",
    "\n",
    "df.duplicated().value_counts()\n",
    "\n",
    "df.sample(frac = 1, replace = True).duplicated().value_counts()\n",
    "\n",
    "df.sample(frac = 1, replace = True).duplicated().value_counts()"
   ]
  },
  {
   "cell_type": "code",
   "execution_count": 10,
   "id": "5ff7017c",
   "metadata": {},
   "outputs": [
    {
     "data": {
      "text/html": [
       "<div>\n",
       "<style scoped>\n",
       "    .dataframe tbody tr th:only-of-type {\n",
       "        vertical-align: middle;\n",
       "    }\n",
       "\n",
       "    .dataframe tbody tr th {\n",
       "        vertical-align: top;\n",
       "    }\n",
       "\n",
       "    .dataframe thead th {\n",
       "        text-align: right;\n",
       "    }\n",
       "</style>\n",
       "<table border=\"1\" class=\"dataframe\">\n",
       "  <thead>\n",
       "    <tr style=\"text-align: right;\">\n",
       "      <th>version</th>\n",
       "      <th>gate_30</th>\n",
       "      <th>gate_40</th>\n",
       "    </tr>\n",
       "  </thead>\n",
       "  <tbody>\n",
       "    <tr>\n",
       "      <th>retention_1</th>\n",
       "      <td>0.447194</td>\n",
       "      <td>0.443627</td>\n",
       "    </tr>\n",
       "    <tr>\n",
       "      <th>retention_1</th>\n",
       "      <td>0.444897</td>\n",
       "      <td>0.445032</td>\n",
       "    </tr>\n",
       "    <tr>\n",
       "      <th>retention_1</th>\n",
       "      <td>0.452701</td>\n",
       "      <td>0.439213</td>\n",
       "    </tr>\n",
       "    <tr>\n",
       "      <th>retention_1</th>\n",
       "      <td>0.451109</td>\n",
       "      <td>0.442635</td>\n",
       "    </tr>\n",
       "    <tr>\n",
       "      <th>retention_1</th>\n",
       "      <td>0.450526</td>\n",
       "      <td>0.442691</td>\n",
       "    </tr>\n",
       "  </tbody>\n",
       "</table>\n",
       "</div>"
      ],
      "text/plain": [
       "version       gate_30   gate_40\n",
       "retention_1  0.447194  0.443627\n",
       "retention_1  0.444897  0.445032\n",
       "retention_1  0.452701  0.439213\n",
       "retention_1  0.451109  0.442635\n",
       "retention_1  0.450526  0.442691"
      ]
     },
     "execution_count": 10,
     "metadata": {},
     "output_type": "execute_result"
    },
    {
     "name": "stdout",
     "output_type": "stream",
     "text": [
      "...\n"
     ]
    }
   ],
   "source": [
    "# Converts in a dataframe\n",
    "\n",
    "bootstrap_means_df = pd.DataFrame(bootstrap_means_list)\n",
    "\n",
    "bootstrap_means_df[:5]\n",
    "print('...')"
   ]
  },
  {
   "cell_type": "code",
   "execution_count": 11,
   "id": "66321c4d",
   "metadata": {},
   "outputs": [
    {
     "data": {
      "image/png": "[encoded data removed]",
      "text/plain": [
       "<Figure size 640x480 with 1 Axes>"
      ]
     },
     "metadata": {},
     "output_type": "display_data"
    }
   ],
   "source": [
    "# Plots repective distributions\n",
    "\n",
    "bootstrap_means_df.plot(kind='kde')\n",
    "plt.show();"
   ]
  },
  {
   "cell_type": "code",
   "execution_count": 12,
   "id": "16ae9da9",
   "metadata": {},
   "outputs": [
    {
     "data": {
      "text/html": [
       "<div>\n",
       "<style scoped>\n",
       "    .dataframe tbody tr th:only-of-type {\n",
       "        vertical-align: middle;\n",
       "    }\n",
       "\n",
       "    .dataframe tbody tr th {\n",
       "        vertical-align: top;\n",
       "    }\n",
       "\n",
       "    .dataframe thead th {\n",
       "        text-align: right;\n",
       "    }\n",
       "</style>\n",
       "<table border=\"1\" class=\"dataframe\">\n",
       "  <thead>\n",
       "    <tr style=\"text-align: right;\">\n",
       "      <th>version</th>\n",
       "      <th>gate_30</th>\n",
       "      <th>gate_40</th>\n",
       "      <th>diff</th>\n",
       "    </tr>\n",
       "  </thead>\n",
       "  <tbody>\n",
       "    <tr>\n",
       "      <th>retention_1</th>\n",
       "      <td>0.447194</td>\n",
       "      <td>0.443627</td>\n",
       "      <td>0.803972</td>\n",
       "    </tr>\n",
       "    <tr>\n",
       "      <th>retention_1</th>\n",
       "      <td>0.444897</td>\n",
       "      <td>0.445032</td>\n",
       "      <td>-0.030355</td>\n",
       "    </tr>\n",
       "    <tr>\n",
       "      <th>retention_1</th>\n",
       "      <td>0.452701</td>\n",
       "      <td>0.439213</td>\n",
       "      <td>3.070779</td>\n",
       "    </tr>\n",
       "    <tr>\n",
       "      <th>retention_1</th>\n",
       "      <td>0.451109</td>\n",
       "      <td>0.442635</td>\n",
       "      <td>1.914511</td>\n",
       "    </tr>\n",
       "    <tr>\n",
       "      <th>retention_1</th>\n",
       "      <td>0.450526</td>\n",
       "      <td>0.442691</td>\n",
       "      <td>1.769811</td>\n",
       "    </tr>\n",
       "  </tbody>\n",
       "</table>\n",
       "</div>"
      ],
      "text/plain": [
       "version       gate_30   gate_40      diff\n",
       "retention_1  0.447194  0.443627  0.803972\n",
       "retention_1  0.444897  0.445032 -0.030355\n",
       "retention_1  0.452701  0.439213  3.070779\n",
       "retention_1  0.451109  0.442635  1.914511\n",
       "retention_1  0.450526  0.442691  1.769811"
      ]
     },
     "execution_count": 12,
     "metadata": {},
     "output_type": "execute_result"
    },
    {
     "name": "stdout",
     "output_type": "stream",
     "text": [
      "...\n"
     ]
    },
    {
     "data": {
      "text/plain": [
       "<AxesSubplot:ylabel='Frequency'>"
      ]
     },
     "execution_count": 12,
     "metadata": {},
     "output_type": "execute_result"
    },
    {
     "data": {
      "image/png": "[encoded data removed]",
      "text/plain": [
       "<Figure size 640x480 with 1 Axes>"
      ]
     },
     "metadata": {},
     "output_type": "display_data"
    }
   ],
   "source": [
    "# calculate % of difference between gate_30 and gate_40 \n",
    "\n",
    "# computes how much larger gate 30 is compared to gate 40 \n",
    "\n",
    "bootstrap_means_df['diff'] = (bootstrap_means_df['gate_30'] - bootstrap_means_df['gate_40'])/bootstrap_means_df['gate_40']*100\n",
    "\n",
    "bootstrap_means_df[:5]\n",
    "print('...')\n",
    "\n",
    "bootstrap_means_df['diff'].plot(kind='hist')\n",
    "plt.show()\n",
    "\n",
    "# Most of differences are between 1 to 2 %\n",
    "# Most of the distribution is above 0"
   ]
  },
  {
   "cell_type": "code",
   "execution_count": 13,
   "id": "ccd15e36",
   "metadata": {},
   "outputs": [
    {
     "data": {
      "text/plain": [
       "97.0"
      ]
     },
     "execution_count": 13,
     "metadata": {},
     "output_type": "execute_result"
    }
   ],
   "source": [
    "# 97 % of samples have a difference higher than 0 %\n",
    "\n",
    "prob_above_0 = (bootstrap_means_df['diff'] > 0).mean() * 100 \n",
    "\n",
    "prob_above_0"
   ]
  },
  {
   "cell_type": "markdown",
   "id": "0313f6e0",
   "metadata": {},
   "source": [
    "Conclusion Retention 1 : \n",
    "\n",
    "    There is a high probability that gate 30 have a greater retention compared to gate 40 "
   ]
  },
  {
   "cell_type": "markdown",
   "id": "50b0105b",
   "metadata": {},
   "source": [
    "Rentention 7"
   ]
  },
  {
   "cell_type": "code",
   "execution_count": 14,
   "id": "0f0d396f",
   "metadata": {},
   "outputs": [
    {
     "data": {
      "text/html": [
       "<div>\n",
       "<style scoped>\n",
       "    .dataframe tbody tr th:only-of-type {\n",
       "        vertical-align: middle;\n",
       "    }\n",
       "\n",
       "    .dataframe tbody tr th {\n",
       "        vertical-align: top;\n",
       "    }\n",
       "\n",
       "    .dataframe thead th {\n",
       "        text-align: right;\n",
       "    }\n",
       "</style>\n",
       "<table border=\"1\" class=\"dataframe\">\n",
       "  <thead>\n",
       "    <tr style=\"text-align: right;\">\n",
       "      <th></th>\n",
       "      <th>retention_7</th>\n",
       "      <th>%</th>\n",
       "    </tr>\n",
       "  </thead>\n",
       "  <tbody>\n",
       "    <tr>\n",
       "      <th>False</th>\n",
       "      <td>73408</td>\n",
       "      <td>81.393518</td>\n",
       "    </tr>\n",
       "    <tr>\n",
       "      <th>True</th>\n",
       "      <td>16781</td>\n",
       "      <td>18.606482</td>\n",
       "    </tr>\n",
       "  </tbody>\n",
       "</table>\n",
       "</div>"
      ],
      "text/plain": [
       "       retention_7          %\n",
       "False        73408  81.393518\n",
       "True         16781  18.606482"
      ]
     },
     "execution_count": 14,
     "metadata": {},
     "output_type": "execute_result"
    }
   ],
   "source": [
    "# Calculates overall retention_7\n",
    "\n",
    "pd.concat([df['retention_7'].value_counts(), \n",
    "           df['retention_7'].value_counts(normalize=True).mul(100).to_frame(name='%')], \n",
    "           axis=1)"
   ]
  },
  {
   "cell_type": "code",
   "execution_count": 15,
   "id": "c15018e8",
   "metadata": {},
   "outputs": [
    {
     "data": {
      "text/html": [
       "<div>\n",
       "<style scoped>\n",
       "    .dataframe tbody tr th:only-of-type {\n",
       "        vertical-align: middle;\n",
       "    }\n",
       "\n",
       "    .dataframe tbody tr th {\n",
       "        vertical-align: top;\n",
       "    }\n",
       "\n",
       "    .dataframe thead th {\n",
       "        text-align: right;\n",
       "    }\n",
       "</style>\n",
       "<table border=\"1\" class=\"dataframe\">\n",
       "  <thead>\n",
       "    <tr style=\"text-align: right;\">\n",
       "      <th></th>\n",
       "      <th></th>\n",
       "      <th>retention_7</th>\n",
       "      <th>%</th>\n",
       "    </tr>\n",
       "    <tr>\n",
       "      <th>version</th>\n",
       "      <th>retention_7</th>\n",
       "      <th></th>\n",
       "      <th></th>\n",
       "    </tr>\n",
       "  </thead>\n",
       "  <tbody>\n",
       "    <tr>\n",
       "      <th rowspan=\"2\" valign=\"top\">gate_30</th>\n",
       "      <th>False</th>\n",
       "      <td>36198</td>\n",
       "      <td>80.979866</td>\n",
       "    </tr>\n",
       "    <tr>\n",
       "      <th>True</th>\n",
       "      <td>8502</td>\n",
       "      <td>19.020134</td>\n",
       "    </tr>\n",
       "    <tr>\n",
       "      <th rowspan=\"2\" valign=\"top\">gate_40</th>\n",
       "      <th>False</th>\n",
       "      <td>37210</td>\n",
       "      <td>81.799996</td>\n",
       "    </tr>\n",
       "    <tr>\n",
       "      <th>True</th>\n",
       "      <td>8279</td>\n",
       "      <td>18.200004</td>\n",
       "    </tr>\n",
       "  </tbody>\n",
       "</table>\n",
       "</div>"
      ],
      "text/plain": [
       "                     retention_7          %\n",
       "version retention_7                        \n",
       "gate_30 False              36198  80.979866\n",
       "        True                8502  19.020134\n",
       "gate_40 False              37210  81.799996\n",
       "        True                8279  18.200004"
      ]
     },
     "execution_count": 15,
     "metadata": {},
     "output_type": "execute_result"
    }
   ],
   "source": [
    "# Calculates retention_7 by groups\n",
    "\n",
    "pd.concat([df.groupby('version')['retention_7'].value_counts(), \n",
    "           df.groupby('version')['retention_7'].value_counts(normalize=True).mul(100).to_frame(name='%')], \n",
    "           axis=1)"
   ]
  },
  {
   "cell_type": "code",
   "execution_count": 16,
   "id": "4fb5cf85",
   "metadata": {},
   "outputs": [
    {
     "data": {
      "text/plain": [
       "[version\n",
       " gate_30    0.188442\n",
       " gate_40    0.184025\n",
       " Name: retention_7, dtype: float64,\n",
       " version\n",
       " gate_30    0.189144\n",
       " gate_40    0.183795\n",
       " Name: retention_7, dtype: float64,\n",
       " version\n",
       " gate_30    0.191567\n",
       " gate_40    0.182046\n",
       " Name: retention_7, dtype: float64,\n",
       " version\n",
       " gate_30    0.195365\n",
       " gate_40    0.181339\n",
       " Name: retention_7, dtype: float64,\n",
       " version\n",
       " gate_30    0.187044\n",
       " gate_40    0.183078\n",
       " Name: retention_7, dtype: float64]"
      ]
     },
     "execution_count": 16,
     "metadata": {},
     "output_type": "execute_result"
    },
    {
     "name": "stdout",
     "output_type": "stream",
     "text": [
      "...\n"
     ]
    }
   ],
   "source": [
    "# Bootstrap analysis\n",
    "\n",
    "bootstrap_means_list = []\n",
    "\n",
    "for i in range(500):\n",
    "    sample_mean = df.sample(frac = 1, replace = True).groupby('version')['retention_7'].mean()\n",
    "    bootstrap_means_list.append(sample_mean)\n",
    "\n",
    "bootstrap_means_list[:5]\n",
    "print('...')"
   ]
  },
  {
   "cell_type": "code",
   "execution_count": 17,
   "id": "7a33694b",
   "metadata": {},
   "outputs": [
    {
     "data": {
      "image/png": "[encoded data removed]",
      "text/plain": [
       "<Figure size 640x480 with 1 Axes>"
      ]
     },
     "metadata": {},
     "output_type": "display_data"
    }
   ],
   "source": [
    "# Converts in a dataframe\n",
    "\n",
    "bootstrap_means_df = pd.DataFrame(bootstrap_means_list)\n",
    "\n",
    "# Plots repective distributions\n",
    "\n",
    "bootstrap_means_df.plot(kind='kde')\n",
    "plt.show();"
   ]
  },
  {
   "cell_type": "code",
   "execution_count": 18,
   "id": "ff696874",
   "metadata": {},
   "outputs": [
    {
     "data": {
      "text/plain": [
       "<AxesSubplot:ylabel='Frequency'>"
      ]
     },
     "execution_count": 18,
     "metadata": {},
     "output_type": "execute_result"
    },
    {
     "data": {
      "image/png": "[encoded data removed]",
      "text/plain": [
       "<Figure size 640x480 with 1 Axes>"
      ]
     },
     "metadata": {},
     "output_type": "display_data"
    }
   ],
   "source": [
    "# calculate % of difference between gate_30 and gate_40 \n",
    "\n",
    "# computes how much larger gate 30 is compared to gate 40 \n",
    "\n",
    "bootstrap_means_df['diff'] = (bootstrap_means_df['gate_30'] - bootstrap_means_df['gate_40'])/bootstrap_means_df['gate_40']*100\n",
    "\n",
    "bootstrap_means_df['diff'].plot(kind='hist')\n",
    "plt.show()\n",
    "\n",
    "# Most of differences are between 3 to 6 %\n",
    "# Most of the distribution is above 0"
   ]
  },
  {
   "cell_type": "code",
   "execution_count": 19,
   "id": "b58503bd",
   "metadata": {},
   "outputs": [
    {
     "data": {
      "text/plain": [
       "99.8"
      ]
     },
     "execution_count": 19,
     "metadata": {},
     "output_type": "execute_result"
    }
   ],
   "source": [
    "# 99.8 % of samples have a difference higher than 0 %\n",
    "\n",
    "prob_above_0 = (bootstrap_means_df['diff'] > 0).mean() * 100 \n",
    "\n",
    "prob_above_0"
   ]
  },
  {
   "cell_type": "markdown",
   "id": "6634442e",
   "metadata": {},
   "source": [
    "Conclusion Retention 7 : \n",
    "\n",
    "    There is a strong evidence that gate 30 have a greater retention compared to gate 40 "
   ]
  },
  {
   "cell_type": "markdown",
   "id": "a95ccdeb",
   "metadata": {},
   "source": [
    "Overall Conclusion :\n",
    "\n",
    "    Forcing the player to stop at gate 30 increase (from 1 day to 7 day) the retention of the player\n",
    "    One might reflect on marginal utility or hedonic adaptation to find possible explanation of these observations "
   ]
  }
 ],
 "metadata": {
  "kernelspec": {
   "display_name": "Python 3 (ipykernel)",
   "language": "python",
   "name": "python3"
  },
  "language_info": {
   "codemirror_mode": {
    "name": "ipython",
    "version": 3
   },
   "file_extension": ".py",
   "mimetype": "text/x-python",
   "name": "python",
   "nbconvert_exporter": "python",
   "pygments_lexer": "ipython3",
   "version": "3.9.12"
  }
 },
 "nbformat": 4,
 "nbformat_minor": 5
}
